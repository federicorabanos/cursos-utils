{
 "cells": [
  {
   "cell_type": "code",
   "execution_count": 12,
   "metadata": {},
   "outputs": [],
   "source": [
    "import pandas as pd"
   ]
  },
  {
   "cell_type": "code",
   "execution_count": 14,
   "metadata": {},
   "outputs": [],
   "source": [
    "df = pd.read_csv('Primera Division Argentina - passing.csv')"
   ]
  },
  {
   "cell_type": "code",
   "execution_count": 17,
   "metadata": {},
   "outputs": [],
   "source": [
    "jugadores = df.Player"
   ]
  },
  {
   "cell_type": "code",
   "execution_count": 18,
   "metadata": {},
   "outputs": [
    {
     "data": {
      "text/plain": [
       "0            Matías AbaldoMatías Abaldo\n",
       "1            Lucas AbasciaLucas Abascia\n",
       "2      Luciano AbecasisLuciano Abecasis\n",
       "3                Ramón ÁbilaRamón Ábila\n",
       "4          Gonzalo AbregoGonzalo Abrego\n",
       "                     ...               \n",
       "923        Felipe ZenobioFelipe Zenobio\n",
       "924              Kevin ZenonKevin Zenon\n",
       "925        Bruno ZuculiniBruno Zuculini\n",
       "926        Iker ZufiaurreIker Zufiaurre\n",
       "927        Fernando ZuquiFernando Zuqui\n",
       "Name: Player, Length: 928, dtype: object"
      ]
     },
     "execution_count": 18,
     "metadata": {},
     "output_type": "execute_result"
    }
   ],
   "source": [
    "jugadores + jugadores"
   ]
  }
 ],
 "metadata": {
  "kernelspec": {
   "display_name": "Python 3",
   "language": "python",
   "name": "python3"
  },
  "language_info": {
   "codemirror_mode": {
    "name": "ipython",
    "version": 3
   },
   "file_extension": ".py",
   "mimetype": "text/x-python",
   "name": "python",
   "nbconvert_exporter": "python",
   "pygments_lexer": "ipython3",
   "version": "3.12.6"
  }
 },
 "nbformat": 4,
 "nbformat_minor": 2
}
